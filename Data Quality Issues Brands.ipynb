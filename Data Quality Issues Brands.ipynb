{
 "cells": [
  {
   "cell_type": "markdown",
   "metadata": {},
   "source": [
    "### Importing libraries"
   ]
  },
  {
   "cell_type": "code",
   "execution_count": 1,
   "metadata": {},
   "outputs": [],
   "source": [
    "import pandas as pd\n",
    "import matplotlib.pyplot as plt\n",
    "import seaborn as sns\n",
    "import numpy as np\n",
    "# for the Q-Q plots\n",
    "#import scipy.stats as stats\n",
    "%matplotlib inline\n",
    "import pandas as pd\n",
    "pd.options.display.float_format = '{:.2f}'.format\n",
    "#from pandas.io.json import json_normalize"
   ]
  },
  {
   "cell_type": "markdown",
   "metadata": {},
   "source": [
    "### Importing dataset for brands"
   ]
  },
  {
   "cell_type": "code",
   "execution_count": 2,
   "metadata": {},
   "outputs": [],
   "source": [
    "brands = pd.read_excel(\"brands.xlsx\")"
   ]
  },
  {
   "cell_type": "code",
   "execution_count": 3,
   "metadata": {},
   "outputs": [
    {
     "name": "stdout",
     "output_type": "stream",
     "text": [
      "<class 'pandas.core.frame.DataFrame'>\n",
      "RangeIndex: 1167 entries, 0 to 1166\n",
      "Data columns (total 9 columns):\n",
      "_id/$oid        1167 non-null object\n",
      "barcode         1167 non-null int64\n",
      "category        1012 non-null object\n",
      "categoryCode    517 non-null object\n",
      "cpg/$id/$oid    1167 non-null object\n",
      "cpg/$ref        1167 non-null object\n",
      "name            1167 non-null object\n",
      "topBrand        555 non-null object\n",
      "brandCode       898 non-null object\n",
      "dtypes: int64(1), object(8)\n",
      "memory usage: 82.2+ KB\n"
     ]
    }
   ],
   "source": [
    "brands.info()"
   ]
  },
  {
   "cell_type": "code",
   "execution_count": 4,
   "metadata": {},
   "outputs": [],
   "source": [
    "brands[\"barcode\"] = brands[\"barcode\"].astype(str)"
   ]
  },
  {
   "cell_type": "code",
   "execution_count": 5,
   "metadata": {},
   "outputs": [
    {
     "data": {
      "text/html": [
       "<div>\n",
       "<style scoped>\n",
       "    .dataframe tbody tr th:only-of-type {\n",
       "        vertical-align: middle;\n",
       "    }\n",
       "\n",
       "    .dataframe tbody tr th {\n",
       "        vertical-align: top;\n",
       "    }\n",
       "\n",
       "    .dataframe thead th {\n",
       "        text-align: right;\n",
       "    }\n",
       "</style>\n",
       "<table border=\"1\" class=\"dataframe\">\n",
       "  <thead>\n",
       "    <tr style=\"text-align: right;\">\n",
       "      <th></th>\n",
       "      <th>_id/$oid</th>\n",
       "      <th>barcode</th>\n",
       "      <th>category</th>\n",
       "      <th>categoryCode</th>\n",
       "      <th>cpg/$id/$oid</th>\n",
       "      <th>cpg/$ref</th>\n",
       "      <th>name</th>\n",
       "      <th>topBrand</th>\n",
       "      <th>brandCode</th>\n",
       "    </tr>\n",
       "  </thead>\n",
       "  <tbody>\n",
       "    <tr>\n",
       "      <td>0</td>\n",
       "      <td>601ac115be37ce2ead437551</td>\n",
       "      <td>511111019862</td>\n",
       "      <td>Baking</td>\n",
       "      <td>BAKING</td>\n",
       "      <td>601ac114be37ce2ead437550</td>\n",
       "      <td>Cogs</td>\n",
       "      <td>test brand @1612366101024</td>\n",
       "      <td>False</td>\n",
       "      <td>NaN</td>\n",
       "    </tr>\n",
       "    <tr>\n",
       "      <td>1</td>\n",
       "      <td>601c5460be37ce2ead43755f</td>\n",
       "      <td>511111519928</td>\n",
       "      <td>Beverages</td>\n",
       "      <td>BEVERAGES</td>\n",
       "      <td>5332f5fbe4b03c9a25efd0ba</td>\n",
       "      <td>Cogs</td>\n",
       "      <td>Starbucks</td>\n",
       "      <td>False</td>\n",
       "      <td>STARBUCKS</td>\n",
       "    </tr>\n",
       "    <tr>\n",
       "      <td>2</td>\n",
       "      <td>601ac142be37ce2ead43755d</td>\n",
       "      <td>511111819905</td>\n",
       "      <td>Baking</td>\n",
       "      <td>BAKING</td>\n",
       "      <td>601ac142be37ce2ead437559</td>\n",
       "      <td>Cogs</td>\n",
       "      <td>test brand @1612366146176</td>\n",
       "      <td>False</td>\n",
       "      <td>TEST BRANDCODE @1612366146176</td>\n",
       "    </tr>\n",
       "    <tr>\n",
       "      <td>3</td>\n",
       "      <td>601ac142be37ce2ead43755a</td>\n",
       "      <td>511111519874</td>\n",
       "      <td>Baking</td>\n",
       "      <td>BAKING</td>\n",
       "      <td>601ac142be37ce2ead437559</td>\n",
       "      <td>Cogs</td>\n",
       "      <td>test brand @1612366146051</td>\n",
       "      <td>False</td>\n",
       "      <td>TEST BRANDCODE @1612366146051</td>\n",
       "    </tr>\n",
       "    <tr>\n",
       "      <td>4</td>\n",
       "      <td>601ac142be37ce2ead43755e</td>\n",
       "      <td>511111319917</td>\n",
       "      <td>Candy &amp; Sweets</td>\n",
       "      <td>CANDY_AND_SWEETS</td>\n",
       "      <td>5332fa12e4b03c9a25efd1e7</td>\n",
       "      <td>Cogs</td>\n",
       "      <td>test brand @1612366146827</td>\n",
       "      <td>False</td>\n",
       "      <td>TEST BRANDCODE @1612366146827</td>\n",
       "    </tr>\n",
       "  </tbody>\n",
       "</table>\n",
       "</div>"
      ],
      "text/plain": [
       "                   _id/$oid       barcode        category      categoryCode  \\\n",
       "0  601ac115be37ce2ead437551  511111019862          Baking            BAKING   \n",
       "1  601c5460be37ce2ead43755f  511111519928       Beverages         BEVERAGES   \n",
       "2  601ac142be37ce2ead43755d  511111819905          Baking            BAKING   \n",
       "3  601ac142be37ce2ead43755a  511111519874          Baking            BAKING   \n",
       "4  601ac142be37ce2ead43755e  511111319917  Candy & Sweets  CANDY_AND_SWEETS   \n",
       "\n",
       "               cpg/$id/$oid cpg/$ref                       name topBrand  \\\n",
       "0  601ac114be37ce2ead437550     Cogs  test brand @1612366101024    False   \n",
       "1  5332f5fbe4b03c9a25efd0ba     Cogs                  Starbucks    False   \n",
       "2  601ac142be37ce2ead437559     Cogs  test brand @1612366146176    False   \n",
       "3  601ac142be37ce2ead437559     Cogs  test brand @1612366146051    False   \n",
       "4  5332fa12e4b03c9a25efd1e7     Cogs  test brand @1612366146827    False   \n",
       "\n",
       "                       brandCode  \n",
       "0                            NaN  \n",
       "1                      STARBUCKS  \n",
       "2  TEST BRANDCODE @1612366146176  \n",
       "3  TEST BRANDCODE @1612366146051  \n",
       "4  TEST BRANDCODE @1612366146827  "
      ]
     },
     "execution_count": 5,
     "metadata": {},
     "output_type": "execute_result"
    }
   ],
   "source": [
    "brands.head()"
   ]
  },
  {
   "cell_type": "markdown",
   "metadata": {},
   "source": [
    "### Quantifying missing data"
   ]
  },
  {
   "cell_type": "code",
   "execution_count": 7,
   "metadata": {},
   "outputs": [
    {
     "data": {
      "text/plain": [
       "_id/$oid          0\n",
       "barcode           0\n",
       "category        155\n",
       "categoryCode    650\n",
       "cpg/$id/$oid      0\n",
       "cpg/$ref          0\n",
       "name              0\n",
       "topBrand        612\n",
       "brandCode       269\n",
       "dtype: int64"
      ]
     },
     "execution_count": 7,
     "metadata": {},
     "output_type": "execute_result"
    }
   ],
   "source": [
    "brands.isnull().sum()"
   ]
  },
  {
   "cell_type": "markdown",
   "metadata": {},
   "source": [
    "##### percentage of missing values in variables"
   ]
  },
  {
   "cell_type": "code",
   "execution_count": 8,
   "metadata": {},
   "outputs": [
    {
     "name": "stdout",
     "output_type": "stream",
     "text": [
      "category : 13.281919451585262\n",
      "categoryCode : 55.69837189374465\n",
      "topBrand : 52.44215938303341\n",
      "brandCode : 23.050556983718938\n"
     ]
    }
   ],
   "source": [
    "# alternatively, we can use the mean() method after isnull() to visualise the percentage of missing values for each variable\n",
    "percentage_null_values = brands.isnull().mean()\n",
    "for key,value in percentage_null_values.items():\n",
    "    if value >0:\n",
    "        print(key,\":\",value*100)"
   ]
  },
  {
   "cell_type": "markdown",
   "metadata": {},
   "source": [
    "A considerate fraction of values(more than 50%) are missing from topBrand and categoryCode variables."
   ]
  },
  {
   "cell_type": "markdown",
   "metadata": {},
   "source": [
    "### Examining values of categorical varibales"
   ]
  },
  {
   "cell_type": "markdown",
   "metadata": {},
   "source": [
    "Here, the variable of my interest is brand 'category'."
   ]
  },
  {
   "cell_type": "code",
   "execution_count": 10,
   "metadata": {},
   "outputs": [
    {
     "data": {
      "text/plain": [
       "array(['Baking', 'Beverages', 'Candy & Sweets', 'Condiments & Sauces',\n",
       "       'Canned Goods & Soups', nan, 'Magazines', 'Breakfast & Cereal',\n",
       "       'Beer Wine Spirits', 'Health & Wellness', 'Beauty', 'Baby',\n",
       "       'Frozen', 'Grocery', 'Snacks', 'Household', 'Personal Care',\n",
       "       'Dairy', 'Cleaning & Home Improvement', 'Deli',\n",
       "       'Beauty & Personal Care', 'Bread & Bakery', 'Outdoor',\n",
       "       'Dairy & Refrigerated'], dtype=object)"
      ]
     },
     "execution_count": 10,
     "metadata": {},
     "output_type": "execute_result"
    }
   ],
   "source": [
    "brands[\"category\"].unique()"
   ]
  },
  {
   "cell_type": "markdown",
   "metadata": {},
   "source": [
    "### Examining percentage of different category values for categorical variables"
   ]
  },
  {
   "cell_type": "markdown",
   "metadata": {},
   "source": [
    "Here, the categorical variable of my interest is category,"
   ]
  },
  {
   "cell_type": "code",
   "execution_count": 11,
   "metadata": {},
   "outputs": [
    {
     "name": "stdout",
     "output_type": "stream",
     "text": [
      "Baking                         31.62 %\n",
      "Beer Wine Spirits               7.71 %\n",
      "Snacks                          6.43 %\n",
      "Candy & Sweets                  6.08 %\n",
      "Beverages                       5.40 %\n",
      "Health & Wellness               3.77 %\n",
      "Magazines                       3.77 %\n",
      "Breakfast & Cereal              3.43 %\n",
      "Grocery                         3.34 %\n",
      "Dairy                           2.83 %\n",
      "Condiments & Sauces             2.31 %\n",
      "Frozen                          2.06 %\n",
      "Personal Care                   1.71 %\n",
      "Baby                            1.54 %\n",
      "Canned Goods & Soups            1.03 %\n",
      "Beauty                          0.77 %\n",
      "Cleaning & Home Improvement     0.51 %\n",
      "Deli                            0.51 %\n",
      "Beauty & Personal Care          0.51 %\n",
      "Bread & Bakery                  0.43 %\n",
      "Dairy & Refrigerated            0.43 %\n",
      "Household                       0.43 %\n",
      "Outdoor                         0.09 %\n",
      "Name: category, dtype: object\n"
     ]
    }
   ],
   "source": [
    "freq_category = 100*(brands['category'].value_counts() / len(brands))\n",
    "print(freq_category.map('{:,.2f} %'.format))"
   ]
  },
  {
   "cell_type": "markdown",
   "metadata": {},
   "source": [
    "Majority of brands belong to the 'Baking' category"
   ]
  },
  {
   "cell_type": "markdown",
   "metadata": {},
   "source": [
    "No data quality issues found."
   ]
  },
  {
   "cell_type": "code",
   "execution_count": null,
   "metadata": {},
   "outputs": [],
   "source": []
  },
  {
   "cell_type": "code",
   "execution_count": null,
   "metadata": {},
   "outputs": [],
   "source": []
  }
 ],
 "metadata": {
  "kernelspec": {
   "display_name": "Python 3",
   "language": "python",
   "name": "python3"
  },
  "language_info": {
   "codemirror_mode": {
    "name": "ipython",
    "version": 3
   },
   "file_extension": ".py",
   "mimetype": "text/x-python",
   "name": "python",
   "nbconvert_exporter": "python",
   "pygments_lexer": "ipython3",
   "version": "3.7.4"
  }
 },
 "nbformat": 4,
 "nbformat_minor": 4
}
