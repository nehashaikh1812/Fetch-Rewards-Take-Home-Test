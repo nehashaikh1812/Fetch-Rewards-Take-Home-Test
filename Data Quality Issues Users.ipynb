{
 "cells": [
  {
   "cell_type": "markdown",
   "metadata": {},
   "source": [
    "### Importing libraries"
   ]
  },
  {
   "cell_type": "code",
   "execution_count": 2,
   "metadata": {},
   "outputs": [],
   "source": [
    "import pandas as pd\n",
    "import matplotlib.pyplot as plt\n",
    "import seaborn as sns\n",
    "import numpy as np\n",
    "# for the Q-Q plots\n",
    "#import scipy.stats as stats\n",
    "%matplotlib inline\n",
    "import pandas as pd\n",
    "pd.options.display.float_format = '{:.2f}'.format\n",
    "#from pandas.io.json import json_normalize"
   ]
  },
  {
   "cell_type": "markdown",
   "metadata": {},
   "source": [
    "### Loading dataset for Users"
   ]
  },
  {
   "cell_type": "code",
   "execution_count": 3,
   "metadata": {},
   "outputs": [],
   "source": [
    "users = pd.read_excel(\"users.xlsx\")"
   ]
  },
  {
   "cell_type": "code",
   "execution_count": 4,
   "metadata": {},
   "outputs": [
    {
     "name": "stdout",
     "output_type": "stream",
     "text": [
      "<class 'pandas.core.frame.DataFrame'>\n",
      "RangeIndex: 495 entries, 0 to 494\n",
      "Data columns (total 7 columns):\n",
      "_id/$oid         495 non-null object\n",
      "active           495 non-null bool\n",
      "createdDate      495 non-null int64\n",
      "lastLoginDate    433 non-null float64\n",
      "role             495 non-null object\n",
      "signUpSource     447 non-null object\n",
      "state            439 non-null object\n",
      "dtypes: bool(1), float64(1), int64(1), object(4)\n",
      "memory usage: 23.8+ KB\n"
     ]
    }
   ],
   "source": [
    "users.info()"
   ]
  },
  {
   "cell_type": "code",
   "execution_count": 5,
   "metadata": {},
   "outputs": [],
   "source": [
    "users[\"lastLoginDate\"] = users[\"lastLoginDate\"].astype(str)"
   ]
  },
  {
   "cell_type": "code",
   "execution_count": 6,
   "metadata": {},
   "outputs": [
    {
     "data": {
      "text/html": [
       "<div>\n",
       "<style scoped>\n",
       "    .dataframe tbody tr th:only-of-type {\n",
       "        vertical-align: middle;\n",
       "    }\n",
       "\n",
       "    .dataframe tbody tr th {\n",
       "        vertical-align: top;\n",
       "    }\n",
       "\n",
       "    .dataframe thead th {\n",
       "        text-align: right;\n",
       "    }\n",
       "</style>\n",
       "<table border=\"1\" class=\"dataframe\">\n",
       "  <thead>\n",
       "    <tr style=\"text-align: right;\">\n",
       "      <th></th>\n",
       "      <th>_id/$oid</th>\n",
       "      <th>active</th>\n",
       "      <th>createdDate</th>\n",
       "      <th>lastLoginDate</th>\n",
       "      <th>role</th>\n",
       "      <th>signUpSource</th>\n",
       "      <th>state</th>\n",
       "    </tr>\n",
       "  </thead>\n",
       "  <tbody>\n",
       "    <tr>\n",
       "      <td>0</td>\n",
       "      <td>5ff1e194b6a9d73a3a9f1052</td>\n",
       "      <td>True</td>\n",
       "      <td>1609687444800</td>\n",
       "      <td>1609687537858.0</td>\n",
       "      <td>consumer</td>\n",
       "      <td>Email</td>\n",
       "      <td>WI</td>\n",
       "    </tr>\n",
       "    <tr>\n",
       "      <td>1</td>\n",
       "      <td>5ff1e194b6a9d73a3a9f1052</td>\n",
       "      <td>True</td>\n",
       "      <td>1609687444800</td>\n",
       "      <td>1609687537858.0</td>\n",
       "      <td>consumer</td>\n",
       "      <td>Email</td>\n",
       "      <td>WI</td>\n",
       "    </tr>\n",
       "    <tr>\n",
       "      <td>2</td>\n",
       "      <td>5ff1e194b6a9d73a3a9f1052</td>\n",
       "      <td>True</td>\n",
       "      <td>1609687444800</td>\n",
       "      <td>1609687537858.0</td>\n",
       "      <td>consumer</td>\n",
       "      <td>Email</td>\n",
       "      <td>WI</td>\n",
       "    </tr>\n",
       "    <tr>\n",
       "      <td>3</td>\n",
       "      <td>5ff1e1eacfcf6c399c274ae6</td>\n",
       "      <td>True</td>\n",
       "      <td>1609687530554</td>\n",
       "      <td>1609687530597.0</td>\n",
       "      <td>consumer</td>\n",
       "      <td>Email</td>\n",
       "      <td>WI</td>\n",
       "    </tr>\n",
       "    <tr>\n",
       "      <td>4</td>\n",
       "      <td>5ff1e194b6a9d73a3a9f1052</td>\n",
       "      <td>True</td>\n",
       "      <td>1609687444800</td>\n",
       "      <td>1609687537858.0</td>\n",
       "      <td>consumer</td>\n",
       "      <td>Email</td>\n",
       "      <td>WI</td>\n",
       "    </tr>\n",
       "  </tbody>\n",
       "</table>\n",
       "</div>"
      ],
      "text/plain": [
       "                   _id/$oid  active    createdDate    lastLoginDate      role  \\\n",
       "0  5ff1e194b6a9d73a3a9f1052    True  1609687444800  1609687537858.0  consumer   \n",
       "1  5ff1e194b6a9d73a3a9f1052    True  1609687444800  1609687537858.0  consumer   \n",
       "2  5ff1e194b6a9d73a3a9f1052    True  1609687444800  1609687537858.0  consumer   \n",
       "3  5ff1e1eacfcf6c399c274ae6    True  1609687530554  1609687530597.0  consumer   \n",
       "4  5ff1e194b6a9d73a3a9f1052    True  1609687444800  1609687537858.0  consumer   \n",
       "\n",
       "  signUpSource state  \n",
       "0        Email    WI  \n",
       "1        Email    WI  \n",
       "2        Email    WI  \n",
       "3        Email    WI  \n",
       "4        Email    WI  "
      ]
     },
     "execution_count": 6,
     "metadata": {},
     "output_type": "execute_result"
    }
   ],
   "source": [
    "users.head()"
   ]
  },
  {
   "cell_type": "markdown",
   "metadata": {},
   "source": [
    "### Identifying numerical and categorical variables"
   ]
  },
  {
   "cell_type": "code",
   "execution_count": 7,
   "metadata": {},
   "outputs": [
    {
     "name": "stdout",
     "output_type": "stream",
     "text": [
      "There are 0 continuous variables\n",
      "There are 1 discrete variables\n",
      "There are 2 temporal variables\n",
      "There are 4 categorical variables\n"
     ]
    }
   ],
   "source": [
    "# make lists of variable types\n",
    "\n",
    "temporal = [var for var in users.columns if 'date' in var or 'Date' in var]\n",
    "\n",
    "discrete = [\n",
    "    var for var in users.columns if users[var].dtype != 'O'\n",
    "    and len(users[var].unique()) < 20 and var not in temporal\n",
    "]\n",
    "\n",
    "continuous = [\n",
    "    var for var in users.columns if users[var].dtype != 'O'\n",
    "    if var not in discrete and var != '_id'\n",
    "    and var not in temporal\n",
    "]\n",
    "\n",
    "categorical = [var for var in users.columns if users[var].dtype == 'O'\n",
    "              and var not in temporal and var not in discrete]\n",
    "\n",
    "print(f'There are {len(continuous)} continuous variables')\n",
    "print(f'There are {len(discrete)} discrete variables')\n",
    "print(f'There are {len(temporal)} temporal variables')\n",
    "print(f'There are {len(categorical)} categorical variables')"
   ]
  },
  {
   "cell_type": "code",
   "execution_count": 8,
   "metadata": {},
   "outputs": [
    {
     "data": {
      "text/plain": [
       "['active']"
      ]
     },
     "execution_count": 8,
     "metadata": {},
     "output_type": "execute_result"
    }
   ],
   "source": [
    "discrete"
   ]
  },
  {
   "cell_type": "code",
   "execution_count": 9,
   "metadata": {},
   "outputs": [
    {
     "data": {
      "text/plain": [
       "['createdDate', 'lastLoginDate']"
      ]
     },
     "execution_count": 9,
     "metadata": {},
     "output_type": "execute_result"
    }
   ],
   "source": [
    "temporal"
   ]
  },
  {
   "cell_type": "code",
   "execution_count": 10,
   "metadata": {},
   "outputs": [
    {
     "data": {
      "text/plain": [
       "['_id/$oid', 'role', 'signUpSource', 'state']"
      ]
     },
     "execution_count": 10,
     "metadata": {},
     "output_type": "execute_result"
    }
   ],
   "source": [
    "categorical"
   ]
  },
  {
   "cell_type": "markdown",
   "metadata": {},
   "source": [
    "### Quantifying missing data"
   ]
  },
  {
   "cell_type": "code",
   "execution_count": 11,
   "metadata": {},
   "outputs": [
    {
     "data": {
      "text/plain": [
       "_id/$oid          0\n",
       "active            0\n",
       "createdDate       0\n",
       "lastLoginDate     0\n",
       "role              0\n",
       "signUpSource     48\n",
       "state            56\n",
       "dtype: int64"
      ]
     },
     "execution_count": 11,
     "metadata": {},
     "output_type": "execute_result"
    }
   ],
   "source": [
    "users.isnull().sum()"
   ]
  },
  {
   "cell_type": "markdown",
   "metadata": {},
   "source": [
    "##### percentage of missing values in variables"
   ]
  },
  {
   "cell_type": "code",
   "execution_count": 12,
   "metadata": {},
   "outputs": [
    {
     "name": "stdout",
     "output_type": "stream",
     "text": [
      "signUpSource : 9.696969696969697\n",
      "state : 11.313131313131313\n"
     ]
    }
   ],
   "source": [
    "# alternatively, we can use the mean() method after isnull() to visualise the percentage of missing values for each variable\n",
    "percentage_null_values= users.isnull().mean()\n",
    "for key,value in percentage_null_values.items():\n",
    "    if value >0:\n",
    "        print(key,\":\",value*100)"
   ]
  },
  {
   "cell_type": "markdown",
   "metadata": {},
   "source": [
    "### Checking for redundant records"
   ]
  },
  {
   "cell_type": "code",
   "execution_count": 13,
   "metadata": {},
   "outputs": [
    {
     "name": "stdout",
     "output_type": "stream",
     "text": [
      "Duplicate Rows except first occurrence based on all columns are :\n",
      "                     _id/$oid  active    createdDate    lastLoginDate  \\\n",
      "1    5ff1e194b6a9d73a3a9f1052    True  1609687444800  1609687537858.0   \n",
      "2    5ff1e194b6a9d73a3a9f1052    True  1609687444800  1609687537858.0   \n",
      "4    5ff1e194b6a9d73a3a9f1052    True  1609687444800  1609687537858.0   \n",
      "5    5ff1e194b6a9d73a3a9f1052    True  1609687444800  1609687537858.0   \n",
      "8    5ff1e194b6a9d73a3a9f1052    True  1609687444800  1609687537858.0   \n",
      "..                        ...     ...            ...              ...   \n",
      "490  54943462e4b07e684157a532    True  1418998882381  1614963143204.0   \n",
      "491  54943462e4b07e684157a532    True  1418998882381  1614963143204.0   \n",
      "492  54943462e4b07e684157a532    True  1418998882381  1614963143204.0   \n",
      "493  54943462e4b07e684157a532    True  1418998882381  1614963143204.0   \n",
      "494  54943462e4b07e684157a532    True  1418998882381  1614963143204.0   \n",
      "\n",
      "            role signUpSource state  \n",
      "1       consumer        Email    WI  \n",
      "2       consumer        Email    WI  \n",
      "4       consumer        Email    WI  \n",
      "5       consumer        Email    WI  \n",
      "8       consumer        Email    WI  \n",
      "..           ...          ...   ...  \n",
      "490  fetch-staff          NaN   NaN  \n",
      "491  fetch-staff          NaN   NaN  \n",
      "492  fetch-staff          NaN   NaN  \n",
      "493  fetch-staff          NaN   NaN  \n",
      "494  fetch-staff          NaN   NaN  \n",
      "\n",
      "[283 rows x 7 columns]\n"
     ]
    }
   ],
   "source": [
    "duplicateRowsDF = users[users.duplicated()]\n",
    "print(\"Duplicate Rows except first occurrence based on all columns are :\")\n",
    "print(duplicateRowsDF)"
   ]
  },
  {
   "cell_type": "markdown",
   "metadata": {},
   "source": [
    "We have a considerately large number of redundant(duplicated) user records."
   ]
  },
  {
   "cell_type": "markdown",
   "metadata": {},
   "source": [
    "### Unique values of categorical variables"
   ]
  },
  {
   "cell_type": "markdown",
   "metadata": {},
   "source": [
    "Unique values:"
   ]
  },
  {
   "cell_type": "code",
   "execution_count": 14,
   "metadata": {},
   "outputs": [
    {
     "data": {
      "text/plain": [
       "array(['consumer', 'fetch-staff'], dtype=object)"
      ]
     },
     "execution_count": 14,
     "metadata": {},
     "output_type": "execute_result"
    }
   ],
   "source": [
    "users[\"role\"].unique()"
   ]
  },
  {
   "cell_type": "code",
   "execution_count": 15,
   "metadata": {},
   "outputs": [
    {
     "data": {
      "text/plain": [
       "array(['Email', 'Google', nan], dtype=object)"
      ]
     },
     "execution_count": 15,
     "metadata": {},
     "output_type": "execute_result"
    }
   ],
   "source": [
    "users[\"signUpSource\"].unique()"
   ]
  },
  {
   "cell_type": "code",
   "execution_count": 16,
   "metadata": {},
   "outputs": [
    {
     "data": {
      "text/plain": [
       "array(['WI', 'KY', 'AL', 'CO', 'IL', nan, 'OH', 'SC', 'NH'], dtype=object)"
      ]
     },
     "execution_count": 16,
     "metadata": {},
     "output_type": "execute_result"
    }
   ],
   "source": [
    "users[\"state\"].unique()"
   ]
  },
  {
   "cell_type": "markdown",
   "metadata": {},
   "source": [
    "### Examining percentage of different category values for categorical variables"
   ]
  },
  {
   "cell_type": "code",
   "execution_count": 17,
   "metadata": {},
   "outputs": [
    {
     "name": "stdout",
     "output_type": "stream",
     "text": [
      "Email     89.49 %\n",
      "Google     0.81 %\n",
      "Name: signUpSource, dtype: object\n"
     ]
    }
   ],
   "source": [
    "freq_source = 100*(users['signUpSource'].value_counts() / len(users))\n",
    "print(freq_source.map('{:,.2f} %'.format))"
   ]
  },
  {
   "cell_type": "markdown",
   "metadata": {},
   "source": [
    "Dominant sign up source is Email."
   ]
  },
  {
   "cell_type": "code",
   "execution_count": 18,
   "metadata": {},
   "outputs": [
    {
     "name": "stdout",
     "output_type": "stream",
     "text": [
      "WI    80.00 %\n",
      "NH     4.04 %\n",
      "AL     2.42 %\n",
      "OH     1.01 %\n",
      "IL     0.61 %\n",
      "CO     0.20 %\n",
      "KY     0.20 %\n",
      "SC     0.20 %\n",
      "Name: state, dtype: object\n"
     ]
    }
   ],
   "source": [
    "freq_state = 100*(users['state'].value_counts() / len(users))\n",
    "print(freq_state.map('{:,.2f} %'.format))"
   ]
  },
  {
   "cell_type": "markdown",
   "metadata": {},
   "source": [
    "As per this data, majority of the users that have signed up reside in Wisconsin."
   ]
  },
  {
   "cell_type": "markdown",
   "metadata": {},
   "source": [
    "Data quality issues found:\n",
    "\n",
    "1. More than half of the user records(out of the total 495) are redundant.\n",
    "\n",
    "\n",
    "Another, less pressing issue:\n",
    "2. small percentage of missing values in signUpSource and state columns"
   ]
  },
  {
   "cell_type": "code",
   "execution_count": null,
   "metadata": {},
   "outputs": [],
   "source": []
  }
 ],
 "metadata": {
  "kernelspec": {
   "display_name": "Python 3",
   "language": "python",
   "name": "python3"
  },
  "language_info": {
   "codemirror_mode": {
    "name": "ipython",
    "version": 3
   },
   "file_extension": ".py",
   "mimetype": "text/x-python",
   "name": "python",
   "nbconvert_exporter": "python",
   "pygments_lexer": "ipython3",
   "version": "3.7.4"
  }
 },
 "nbformat": 4,
 "nbformat_minor": 4
}
