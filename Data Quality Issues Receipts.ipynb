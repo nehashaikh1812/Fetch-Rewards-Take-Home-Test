{
 "cells": [
  {
   "cell_type": "markdown",
   "metadata": {},
   "source": [
    "### Importing libraries"
   ]
  },
  {
   "cell_type": "code",
   "execution_count": 16,
   "metadata": {},
   "outputs": [],
   "source": [
    "import pandas as pd\n",
    "import matplotlib.pyplot as plt\n",
    "import seaborn as sns\n",
    "import numpy as np\n",
    "# for the Q-Q plots\n",
    "#import scipy.stats as stats\n",
    "%matplotlib inline\n",
    "import pandas as pd\n",
    "pd.options.display.float_format = '{:.2f}'.format\n",
    "#from pandas.io.json import json_normalize"
   ]
  },
  {
   "cell_type": "markdown",
   "metadata": {},
   "source": [
    "### Loading dataset for receipts"
   ]
  },
  {
   "cell_type": "code",
   "execution_count": 17,
   "metadata": {},
   "outputs": [],
   "source": [
    "receipts = pd.read_excel(\"receipts.xlsx\")"
   ]
  },
  {
   "cell_type": "code",
   "execution_count": 18,
   "metadata": {},
   "outputs": [
    {
     "name": "stdout",
     "output_type": "stream",
     "text": [
      "<class 'pandas.core.frame.DataFrame'>\n",
      "RangeIndex: 1119 entries, 0 to 1118\n",
      "Data columns (total 15 columns):\n",
      "_id/$oid                   1119 non-null object\n",
      "bonusPointsEarned          544 non-null float64\n",
      "bonusPointsEarnedReason    544 non-null object\n",
      "createDate                 1119 non-null int64\n",
      "dateScanned                1119 non-null int64\n",
      "finishedDate               568 non-null float64\n",
      "modifyDate                 1119 non-null int64\n",
      "pointsAwardedDate          537 non-null float64\n",
      "pointsEarned               609 non-null float64\n",
      "purchaseDate               671 non-null float64\n",
      "purchasedItemCount         635 non-null float64\n",
      "rewardsReceiptItemList     679 non-null object\n",
      "rewardsReceiptStatus       1119 non-null object\n",
      "totalSpent                 684 non-null float64\n",
      "userId                     1119 non-null object\n",
      "dtypes: float64(7), int64(3), object(5)\n",
      "memory usage: 131.3+ KB\n"
     ]
    }
   ],
   "source": [
    "receipts.info()"
   ]
  },
  {
   "cell_type": "code",
   "execution_count": 19,
   "metadata": {},
   "outputs": [
    {
     "data": {
      "text/html": [
       "<div>\n",
       "<style scoped>\n",
       "    .dataframe tbody tr th:only-of-type {\n",
       "        vertical-align: middle;\n",
       "    }\n",
       "\n",
       "    .dataframe tbody tr th {\n",
       "        vertical-align: top;\n",
       "    }\n",
       "\n",
       "    .dataframe thead th {\n",
       "        text-align: right;\n",
       "    }\n",
       "</style>\n",
       "<table border=\"1\" class=\"dataframe\">\n",
       "  <thead>\n",
       "    <tr style=\"text-align: right;\">\n",
       "      <th></th>\n",
       "      <th>_id/$oid</th>\n",
       "      <th>bonusPointsEarned</th>\n",
       "      <th>bonusPointsEarnedReason</th>\n",
       "      <th>createDate</th>\n",
       "      <th>dateScanned</th>\n",
       "      <th>finishedDate</th>\n",
       "      <th>modifyDate</th>\n",
       "      <th>pointsAwardedDate</th>\n",
       "      <th>pointsEarned</th>\n",
       "      <th>purchaseDate</th>\n",
       "      <th>purchasedItemCount</th>\n",
       "      <th>rewardsReceiptItemList</th>\n",
       "      <th>rewardsReceiptStatus</th>\n",
       "      <th>totalSpent</th>\n",
       "      <th>userId</th>\n",
       "    </tr>\n",
       "  </thead>\n",
       "  <tbody>\n",
       "    <tr>\n",
       "      <td>0</td>\n",
       "      <td>5ff1e1eb0a720f0523000575</td>\n",
       "      <td>500.00</td>\n",
       "      <td>Receipt number 2 completed, bonus point schedu...</td>\n",
       "      <td>1609687531000</td>\n",
       "      <td>1609687531000</td>\n",
       "      <td>1609687531000.00</td>\n",
       "      <td>1609687536000</td>\n",
       "      <td>1609687531000.00</td>\n",
       "      <td>500.00</td>\n",
       "      <td>1609632000000.00</td>\n",
       "      <td>5.00</td>\n",
       "      <td>[{'barcode': '4011', 'description': 'ITEM NOT ...</td>\n",
       "      <td>FINISHED</td>\n",
       "      <td>26.00</td>\n",
       "      <td>5ff1e1eacfcf6c399c274ae6</td>\n",
       "    </tr>\n",
       "    <tr>\n",
       "      <td>1</td>\n",
       "      <td>5ff1e1bb0a720f052300056b</td>\n",
       "      <td>150.00</td>\n",
       "      <td>Receipt number 5 completed, bonus point schedu...</td>\n",
       "      <td>1609687483000</td>\n",
       "      <td>1609687483000</td>\n",
       "      <td>1609687483000.00</td>\n",
       "      <td>1609687488000</td>\n",
       "      <td>1609687483000.00</td>\n",
       "      <td>150.00</td>\n",
       "      <td>1609601083000.00</td>\n",
       "      <td>2.00</td>\n",
       "      <td>[{'barcode': '4011', 'description': 'ITEM NOT ...</td>\n",
       "      <td>FINISHED</td>\n",
       "      <td>11.00</td>\n",
       "      <td>5ff1e194b6a9d73a3a9f1052</td>\n",
       "    </tr>\n",
       "    <tr>\n",
       "      <td>2</td>\n",
       "      <td>5ff1e1f10a720f052300057a</td>\n",
       "      <td>5.00</td>\n",
       "      <td>All-receipts receipt bonus</td>\n",
       "      <td>1609687537000</td>\n",
       "      <td>1609687537000</td>\n",
       "      <td>nan</td>\n",
       "      <td>1609687542000</td>\n",
       "      <td>nan</td>\n",
       "      <td>5.00</td>\n",
       "      <td>1609632000000.00</td>\n",
       "      <td>1.00</td>\n",
       "      <td>[{'needsFetchReview': False, 'partnerItemId': ...</td>\n",
       "      <td>REJECTED</td>\n",
       "      <td>10.00</td>\n",
       "      <td>5ff1e1f1cfcf6c399c274b0b</td>\n",
       "    </tr>\n",
       "    <tr>\n",
       "      <td>3</td>\n",
       "      <td>5ff1e1ee0a7214ada100056f</td>\n",
       "      <td>5.00</td>\n",
       "      <td>All-receipts receipt bonus</td>\n",
       "      <td>1609687534000</td>\n",
       "      <td>1609687534000</td>\n",
       "      <td>1609687534000.00</td>\n",
       "      <td>1609687539000</td>\n",
       "      <td>1609687534000.00</td>\n",
       "      <td>5.00</td>\n",
       "      <td>1609632000000.00</td>\n",
       "      <td>4.00</td>\n",
       "      <td>[{'barcode': '4011', 'description': 'ITEM NOT ...</td>\n",
       "      <td>FINISHED</td>\n",
       "      <td>28.00</td>\n",
       "      <td>5ff1e1eacfcf6c399c274ae6</td>\n",
       "    </tr>\n",
       "    <tr>\n",
       "      <td>4</td>\n",
       "      <td>5ff1e1d20a7214ada1000561</td>\n",
       "      <td>5.00</td>\n",
       "      <td>All-receipts receipt bonus</td>\n",
       "      <td>1609687506000</td>\n",
       "      <td>1609687506000</td>\n",
       "      <td>1609687511000.00</td>\n",
       "      <td>1609687511000</td>\n",
       "      <td>1609687506000.00</td>\n",
       "      <td>5.00</td>\n",
       "      <td>1609601106000.00</td>\n",
       "      <td>2.00</td>\n",
       "      <td>[{'barcode': '4011', 'description': 'ITEM NOT ...</td>\n",
       "      <td>FINISHED</td>\n",
       "      <td>1.00</td>\n",
       "      <td>5ff1e194b6a9d73a3a9f1052</td>\n",
       "    </tr>\n",
       "  </tbody>\n",
       "</table>\n",
       "</div>"
      ],
      "text/plain": [
       "                   _id/$oid  bonusPointsEarned  \\\n",
       "0  5ff1e1eb0a720f0523000575             500.00   \n",
       "1  5ff1e1bb0a720f052300056b             150.00   \n",
       "2  5ff1e1f10a720f052300057a               5.00   \n",
       "3  5ff1e1ee0a7214ada100056f               5.00   \n",
       "4  5ff1e1d20a7214ada1000561               5.00   \n",
       "\n",
       "                             bonusPointsEarnedReason     createDate  \\\n",
       "0  Receipt number 2 completed, bonus point schedu...  1609687531000   \n",
       "1  Receipt number 5 completed, bonus point schedu...  1609687483000   \n",
       "2                         All-receipts receipt bonus  1609687537000   \n",
       "3                         All-receipts receipt bonus  1609687534000   \n",
       "4                         All-receipts receipt bonus  1609687506000   \n",
       "\n",
       "     dateScanned     finishedDate     modifyDate  pointsAwardedDate  \\\n",
       "0  1609687531000 1609687531000.00  1609687536000   1609687531000.00   \n",
       "1  1609687483000 1609687483000.00  1609687488000   1609687483000.00   \n",
       "2  1609687537000              nan  1609687542000                nan   \n",
       "3  1609687534000 1609687534000.00  1609687539000   1609687534000.00   \n",
       "4  1609687506000 1609687511000.00  1609687511000   1609687506000.00   \n",
       "\n",
       "   pointsEarned     purchaseDate  purchasedItemCount  \\\n",
       "0        500.00 1609632000000.00                5.00   \n",
       "1        150.00 1609601083000.00                2.00   \n",
       "2          5.00 1609632000000.00                1.00   \n",
       "3          5.00 1609632000000.00                4.00   \n",
       "4          5.00 1609601106000.00                2.00   \n",
       "\n",
       "                              rewardsReceiptItemList rewardsReceiptStatus  \\\n",
       "0  [{'barcode': '4011', 'description': 'ITEM NOT ...             FINISHED   \n",
       "1  [{'barcode': '4011', 'description': 'ITEM NOT ...             FINISHED   \n",
       "2  [{'needsFetchReview': False, 'partnerItemId': ...             REJECTED   \n",
       "3  [{'barcode': '4011', 'description': 'ITEM NOT ...             FINISHED   \n",
       "4  [{'barcode': '4011', 'description': 'ITEM NOT ...             FINISHED   \n",
       "\n",
       "   totalSpent                    userId  \n",
       "0       26.00  5ff1e1eacfcf6c399c274ae6  \n",
       "1       11.00  5ff1e194b6a9d73a3a9f1052  \n",
       "2       10.00  5ff1e1f1cfcf6c399c274b0b  \n",
       "3       28.00  5ff1e1eacfcf6c399c274ae6  \n",
       "4        1.00  5ff1e194b6a9d73a3a9f1052  "
      ]
     },
     "execution_count": 19,
     "metadata": {},
     "output_type": "execute_result"
    }
   ],
   "source": [
    "receipts.head()"
   ]
  },
  {
   "cell_type": "markdown",
   "metadata": {},
   "source": [
    "### Identifying numerical and categorical variables"
   ]
  },
  {
   "cell_type": "code",
   "execution_count": 20,
   "metadata": {},
   "outputs": [
    {
     "name": "stdout",
     "output_type": "stream",
     "text": [
      "There are 3 continuous variables\n",
      "There are 1 discrete variables\n",
      "There are 6 temporal variables\n",
      "There are 5 categorical variables\n"
     ]
    }
   ],
   "source": [
    "# make lists of variable types\n",
    "\n",
    "temporal = [var for var in receipts.columns if 'date' in var or 'Date' in var]\n",
    "\n",
    "discrete = [\n",
    "    var for var in receipts.columns if receipts[var].dtype != 'O'\n",
    "    and len(receipts[var].unique()) < 20 and var not in temporal\n",
    "]\n",
    "\n",
    "continuous = [\n",
    "    var for var in receipts.columns if receipts[var].dtype != 'O'\n",
    "    if var not in discrete and var != '_id'\n",
    "    and var not in temporal\n",
    "]\n",
    "\n",
    "categorical = [var for var in receipts.columns if receipts[var].dtype == 'O'\n",
    "              and var not in temporal and var not in discrete]\n",
    "\n",
    "print(f'There are {len(continuous)} continuous variables')\n",
    "print(f'There are {len(discrete)} discrete variables')\n",
    "print(f'There are {len(temporal)} temporal variables')\n",
    "print(f'There are {len(categorical)} categorical variables')"
   ]
  },
  {
   "cell_type": "code",
   "execution_count": 21,
   "metadata": {},
   "outputs": [
    {
     "data": {
      "text/plain": [
       "['pointsEarned', 'purchasedItemCount', 'totalSpent']"
      ]
     },
     "execution_count": 21,
     "metadata": {},
     "output_type": "execute_result"
    }
   ],
   "source": [
    "continuous"
   ]
  },
  {
   "cell_type": "code",
   "execution_count": 22,
   "metadata": {},
   "outputs": [
    {
     "data": {
      "text/plain": [
       "['bonusPointsEarned']"
      ]
     },
     "execution_count": 22,
     "metadata": {},
     "output_type": "execute_result"
    }
   ],
   "source": [
    "discrete"
   ]
  },
  {
   "cell_type": "code",
   "execution_count": 23,
   "metadata": {},
   "outputs": [
    {
     "data": {
      "text/plain": [
       "['createDate',\n",
       " 'dateScanned',\n",
       " 'finishedDate',\n",
       " 'modifyDate',\n",
       " 'pointsAwardedDate',\n",
       " 'purchaseDate']"
      ]
     },
     "execution_count": 23,
     "metadata": {},
     "output_type": "execute_result"
    }
   ],
   "source": [
    "temporal"
   ]
  },
  {
   "cell_type": "code",
   "execution_count": 24,
   "metadata": {},
   "outputs": [
    {
     "data": {
      "text/plain": [
       "['_id/$oid',\n",
       " 'bonusPointsEarnedReason',\n",
       " 'rewardsReceiptItemList',\n",
       " 'rewardsReceiptStatus',\n",
       " 'userId']"
      ]
     },
     "execution_count": 24,
     "metadata": {},
     "output_type": "execute_result"
    }
   ],
   "source": [
    "categorical"
   ]
  },
  {
   "cell_type": "markdown",
   "metadata": {},
   "source": [
    "### Quantifying missing data"
   ]
  },
  {
   "cell_type": "code",
   "execution_count": 30,
   "metadata": {},
   "outputs": [
    {
     "data": {
      "text/plain": [
       "_id/$oid                     0\n",
       "bonusPointsEarned          575\n",
       "bonusPointsEarnedReason    575\n",
       "createDate                   0\n",
       "dateScanned                  0\n",
       "finishedDate               551\n",
       "modifyDate                   0\n",
       "pointsAwardedDate          582\n",
       "pointsEarned               510\n",
       "purchaseDate               448\n",
       "purchasedItemCount         484\n",
       "rewardsReceiptItemList     440\n",
       "rewardsReceiptStatus         0\n",
       "totalSpent                 435\n",
       "userId                       0\n",
       "dtype: int64"
      ]
     },
     "execution_count": 30,
     "metadata": {},
     "output_type": "execute_result"
    }
   ],
   "source": [
    "receipts.isnull().sum()"
   ]
  },
  {
   "cell_type": "markdown",
   "metadata": {},
   "source": [
    "##### percentage of missing values in variables"
   ]
  },
  {
   "cell_type": "code",
   "execution_count": 32,
   "metadata": {},
   "outputs": [
    {
     "name": "stdout",
     "output_type": "stream",
     "text": [
      "bonusPointsEarned : 51.385165326184094\n",
      "bonusPointsEarnedReason : 51.385165326184094\n",
      "finishedDate : 49.240393208221626\n",
      "pointsAwardedDate : 52.01072386058981\n",
      "pointsEarned : 45.57640750670242\n",
      "purchaseDate : 40.03574620196604\n",
      "purchasedItemCount : 43.25290437890974\n",
      "rewardsReceiptItemList : 39.32082216264522\n",
      "totalSpent : 38.8739946380697\n"
     ]
    }
   ],
   "source": [
    "# alternatively, we can use the mean() method after isnull() to visualise the percentage of missing values for each variable\n",
    "percentage_null_values= receipts.isnull().mean()\n",
    "for key,value in percentage_null_values.items():\n",
    "    if value >0:\n",
    "        print(key,\":\",value*100)"
   ]
  },
  {
   "cell_type": "markdown",
   "metadata": {},
   "source": [
    "A considerate fraction of values are missing from the above mentioned variables. Missing values for certain variables are a major concern:\n",
    "\n",
    "1. finishedDate- for 49%(almost half) of the receipts we don't know when do they become invalid(assuming that the date on which a receipt finishes processing is the date on which it becomes invalid)"
   ]
  },
  {
   "cell_type": "code",
   "execution_count": 34,
   "metadata": {},
   "outputs": [
    {
     "data": {
      "text/plain": [
       "array([5.00000e+02, 1.50000e+02, 5.00000e+00, 7.50000e+02, 2.50000e+02,\n",
       "       1.00000e+02, 8.85000e+03, 3.00000e+02,         nan, 3.89200e+02,\n",
       "       1.85000e+02, 3.50000e+01, 6.50000e+02, 5.50000e+01, 5.00000e+01,\n",
       "       3.55000e+02, 6.00000e+02, 1.75000e+03, 3.50000e+02, 2.25000e+02,\n",
       "       2.75000e+02, 2.50000e+01, 7.55000e+02, 1.80000e+03, 8.10000e+02,\n",
       "       3.05000e+02, 9.44980e+03, 9.12000e+01, 8.25000e+02, 3.50600e+02,\n",
       "       1.25000e+02, 7.93100e+02, 2.00000e+02, 3.25000e+03, 0.00000e+00,\n",
       "       4.00500e+03, 2.00500e+03, 8.41200e+02, 5.75000e+03, 3.75000e+03,\n",
       "       8.70000e+03, 7.60000e+02, 7.80000e+02, 9.20000e+03, 1.00500e+03,\n",
       "       1.99960e+03, 1.89200e+02, 8.95000e+03, 8.85000e+02, 8.00000e+02,\n",
       "       2.95000e+02, 6.82400e+02, 8.37400e+02, 2.37800e+02, 1.60000e+02,\n",
       "       8.55700e+02, 6.05700e+02, 2.41670e+03, 1.80640e+03, 4.05700e+02,\n",
       "       1.51690e+03, 1.65830e+03, 2.68580e+03, 8.79100e+02, 3.65940e+03,\n",
       "       9.34400e+02, 8.77700e+02, 9.22100e+02, 1.54180e+03, 1.00000e+03,\n",
       "       5.74400e+02, 5.06000e+01, 2.05550e+03, 5.85000e+03, 4.85000e+03,\n",
       "       1.73600e+02, 9.85000e+03, 5.09000e+01, 2.30000e+03, 6.73000e+02,\n",
       "       4.05900e+02, 2.14330e+03, 1.55000e+03, 9.86500e+02, 5.83400e+02,\n",
       "       4.48050e+03, 3.37990e+03, 3.23600e+02, 6.25730e+03, 2.49770e+03,\n",
       "       1.17870e+03, 1.44700e+03, 1.72950e+03, 1.47620e+03, 1.70800e+03,\n",
       "       1.07750e+03, 1.13510e+03, 1.04430e+03, 6.40700e+02, 5.23600e+02,\n",
       "       4.87700e+02, 7.13720e+03, 1.20500e+03, 4.00000e+02, 1.01998e+04,\n",
       "       8.50000e+02, 9.46000e+01, 1.85000e+03, 8.40000e+02, 1.04980e+03,\n",
       "       9.40000e+02, 4.94470e+03, 3.75000e+02, 1.49950e+03, 2.09900e+02,\n",
       "       2.09800e+02, 2.10000e+02, 2.09500e+02, 7.89200e+02, 3.50000e+03])"
      ]
     },
     "execution_count": 34,
     "metadata": {},
     "output_type": "execute_result"
    }
   ],
   "source": [
    "receipts[\"pointsEarned\"].unique()"
   ]
  },
  {
   "cell_type": "markdown",
   "metadata": {},
   "source": [
    "2. pointsEarned- 45% of the values for the 'pointsEarned' field are missing. If we look at the unique values for 'pointsEarned', we do not have a zero value. This means that points were earned for certain receipts but the data was not captured and that's why the large number of missing values."
   ]
  },
  {
   "cell_type": "markdown",
   "metadata": {},
   "source": [
    "3. purchasedItemCount- large number of missing values will pose problems for deciding if users who bought more than one unit of a product qualify for special offers/bonus points that require them to purchase certain amount of particular products/brands."
   ]
  },
  {
   "cell_type": "markdown",
   "metadata": {},
   "source": [
    "4. totalSpent, rewardsReceiptItemList- Since data for these two fields is missing, it is natural that we don't have information about points earned(pointsEarned field) for those transactions."
   ]
  },
  {
   "cell_type": "markdown",
   "metadata": {},
   "source": [
    "### Examining percentage of different category values for categorical variables"
   ]
  },
  {
   "cell_type": "markdown",
   "metadata": {},
   "source": [
    "Here, the categorical variable of my interest is bonusPointsEarnedReason"
   ]
  },
  {
   "cell_type": "code",
   "execution_count": 37,
   "metadata": {},
   "outputs": [
    {
     "name": "stdout",
     "output_type": "stream",
     "text": [
      "All-receipts receipt bonus                                                             16.35 %\n",
      "Receipt number 1 completed, bonus point schedule DEFAULT (5cefdcacf3693e0b50e83a36)    10.63 %\n",
      "COMPLETE_NONPARTNER_RECEIPT                                                             6.34 %\n",
      "COMPLETE_PARTNER_RECEIPT                                                                3.49 %\n",
      "Receipt number 3 completed, bonus point schedule DEFAULT (5cefdcacf3693e0b50e83a36)     2.77 %\n",
      "Receipt number 2 completed, bonus point schedule DEFAULT (5cefdcacf3693e0b50e83a36)     2.68 %\n",
      "Receipt number 5 completed, bonus point schedule DEFAULT (5cefdcacf3693e0b50e83a36)     2.41 %\n",
      "Receipt number 4 completed, bonus point schedule DEFAULT (5cefdcacf3693e0b50e83a36)     2.32 %\n",
      "Receipt number 6 completed, bonus point schedule DEFAULT (5cefdcacf3693e0b50e83a36)     1.61 %\n",
      "Name: bonusPointsEarnedReason, dtype: object\n"
     ]
    }
   ],
   "source": [
    "freq_reasons = 100*(receipts['bonusPointsEarnedReason'].value_counts() / len(receipts))\n",
    "print(freq_reasons.map('{:,.2f} %'.format))"
   ]
  },
  {
   "cell_type": "code",
   "execution_count": null,
   "metadata": {},
   "outputs": [],
   "source": []
  },
  {
   "cell_type": "markdown",
   "metadata": {},
   "source": [
    "### Plotting outliers using boxplot"
   ]
  },
  {
   "cell_type": "code",
   "execution_count": 45,
   "metadata": {},
   "outputs": [
    {
     "data": {
      "image/png": "[encoded data removed]",
      "text/plain": [
       "<Figure size 1080x360 with 3 Axes>"
      ]
     },
     "metadata": {
      "needs_background": "light"
     },
     "output_type": "display_data"
    }
   ],
   "source": [
    "fig, axs = plt.subplots(ncols=3, nrows=1,figsize=(15,5))\n",
    "axs = axs.flatten()\n",
    "\n",
    "for i, var in enumerate(continuous):\n",
    "    sns.boxplot(receipts[receipts[var].notnull()][var], ax=axs[i], orient='h');"
   ]
  },
  {
   "cell_type": "markdown",
   "metadata": {},
   "source": [
    "By looking at the boxplots we can say that there is a significantly large range of outliers."
   ]
  },
  {
   "cell_type": "markdown",
   "metadata": {},
   "source": [
    "##### Examining distributions of continuous variables"
   ]
  },
  {
   "cell_type": "code",
   "execution_count": 46,
   "metadata": {},
   "outputs": [
    {
     "data": {
      "image/png": "[encoded data removed]",
      "text/plain": [
       "<Figure size 1080x360 with 3 Axes>"
      ]
     },
     "metadata": {
      "needs_background": "light"
     },
     "output_type": "display_data"
    }
   ],
   "source": [
    "fig, axs = plt.subplots(ncols=3, nrows=1,figsize=(15,5))\n",
    "axs = axs.flatten()\n",
    "\n",
    "for i, var in enumerate(continuous):\n",
    "    sns.distplot(receipts[receipts[var].notnull()][var], ax=axs[i]);"
   ]
  },
  {
   "cell_type": "markdown",
   "metadata": {},
   "source": [
    "The distributions for all the three continuous variables are right-skewed. "
   ]
  },
  {
   "cell_type": "markdown",
   "metadata": {},
   "source": [
    "Both, the boxplots and value distribution diagrams suggest that there are a lot of outliers, but we can't say anything about the significance of these outliers at this point."
   ]
  },
  {
   "cell_type": "markdown",
   "metadata": {},
   "source": [
    "### Examining corelation between variables"
   ]
  },
  {
   "cell_type": "code",
   "execution_count": 48,
   "metadata": {},
   "outputs": [
    {
     "data": {
      "text/plain": [
       "<matplotlib.axes._subplots.AxesSubplot at 0x1501ba17d88>"
      ]
     },
     "execution_count": 48,
     "metadata": {},
     "output_type": "execute_result"
    },
    {
     "data": {
      "image/png": "[encoded data removed]",
      "text/plain": [
       "<Figure size 720x720 with 2 Axes>"
      ]
     },
     "metadata": {
      "needs_background": "light"
     },
     "output_type": "display_data"
    }
   ],
   "source": [
    "import seaborn as sns\n",
    "f, ax = plt.subplots(figsize=(10, 10))\n",
    "corr = receipts.corr()\n",
    "sns.heatmap(corr, mask=np.zeros_like(corr, dtype=np.bool), square=True, ax=ax\n",
    ")"
   ]
  },
  {
   "cell_type": "markdown",
   "metadata": {},
   "source": [
    "No significant corelations found."
   ]
  },
  {
   "cell_type": "code",
   "execution_count": null,
   "metadata": {},
   "outputs": [],
   "source": []
  }
 ],
 "metadata": {
  "kernelspec": {
   "display_name": "Python 3",
   "language": "python",
   "name": "python3"
  },
  "language_info": {
   "codemirror_mode": {
    "name": "ipython",
    "version": 3
   },
   "file_extension": ".py",
   "mimetype": "text/x-python",
   "name": "python",
   "nbconvert_exporter": "python",
   "pygments_lexer": "ipython3",
   "version": "3.7.4"
  }
 },
 "nbformat": 4,
 "nbformat_minor": 4
}
